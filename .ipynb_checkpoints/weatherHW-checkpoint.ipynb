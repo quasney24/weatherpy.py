{
 "cells": [
  {
   "cell_type": "code",
   "execution_count": 1,
   "metadata": {},
   "outputs": [],
   "source": [
    "from citipy import citipy\n",
    "import pandas as pd\n",
    "import matplotlib.pyplot as plt\n",
    "import requests\n",
    "import json\n",
    "import seaborn as sns\n",
    "import numpy as np\n",
    "import datetime \n",
    "today = datetime.datetime.today().strftime('%Y-%m-%d')\n",
    "\n",
    "url = \"http://api.openweathermap.org/data/2.5/weather?\"\n",
    "api_key = \"c8a4b6c487e97bc9f1940df7758a0f72\"\n",
    "units = \"imperial\""
   ]
  },
  {
   "cell_type": "code",
   "execution_count": 2,
   "metadata": {},
   "outputs": [
    {
     "data": {
      "text/html": [
       "<div>\n",
       "<style>\n",
       "    .dataframe thead tr:only-child th {\n",
       "        text-align: right;\n",
       "    }\n",
       "\n",
       "    .dataframe thead th {\n",
       "        text-align: left;\n",
       "    }\n",
       "\n",
       "    .dataframe tbody tr th {\n",
       "        vertical-align: top;\n",
       "    }\n",
       "</style>\n",
       "<table border=\"1\" class=\"dataframe\">\n",
       "  <thead>\n",
       "    <tr style=\"text-align: right;\">\n",
       "      <th></th>\n",
       "      <th>Lat</th>\n",
       "      <th>Lng</th>\n",
       "    </tr>\n",
       "  </thead>\n",
       "  <tbody>\n",
       "    <tr>\n",
       "      <th>0</th>\n",
       "      <td>12.747708</td>\n",
       "      <td>66.782187</td>\n",
       "    </tr>\n",
       "    <tr>\n",
       "      <th>1</th>\n",
       "      <td>41.186777</td>\n",
       "      <td>102.768168</td>\n",
       "    </tr>\n",
       "    <tr>\n",
       "      <th>2</th>\n",
       "      <td>-64.945387</td>\n",
       "      <td>-118.165026</td>\n",
       "    </tr>\n",
       "    <tr>\n",
       "      <th>3</th>\n",
       "      <td>66.150189</td>\n",
       "      <td>-14.237187</td>\n",
       "    </tr>\n",
       "    <tr>\n",
       "      <th>4</th>\n",
       "      <td>21.375534</td>\n",
       "      <td>45.873414</td>\n",
       "    </tr>\n",
       "  </tbody>\n",
       "</table>\n",
       "</div>"
      ],
      "text/plain": [
       "         Lat         Lng\n",
       "0  12.747708   66.782187\n",
       "1  41.186777  102.768168\n",
       "2 -64.945387 -118.165026\n",
       "3  66.150189  -14.237187\n",
       "4  21.375534   45.873414"
      ]
     },
     "execution_count": 2,
     "metadata": {},
     "output_type": "execute_result"
    }
   ],
   "source": [
    "#Random list for lat/long\n",
    "list_lat = np.random.uniform(-90,90, size = 1800)\n",
    "list_long = np.random.uniform(-180,180, size = 1800)\n",
    "\n",
    "list1_df = pd.DataFrame({\"Lat\": list_lat, \"Lng\": list_long})\n",
    "list1_df.head()"
   ]
  },
  {
   "cell_type": "code",
   "execution_count": 6,
   "metadata": {},
   "outputs": [
    {
     "data": {
      "text/html": [
       "<div>\n",
       "<style>\n",
       "    .dataframe thead tr:only-child th {\n",
       "        text-align: right;\n",
       "    }\n",
       "\n",
       "    .dataframe thead th {\n",
       "        text-align: left;\n",
       "    }\n",
       "\n",
       "    .dataframe tbody tr th {\n",
       "        vertical-align: top;\n",
       "    }\n",
       "</style>\n",
       "<table border=\"1\" class=\"dataframe\">\n",
       "  <thead>\n",
       "    <tr style=\"text-align: right;\">\n",
       "      <th></th>\n",
       "      <th>Lat</th>\n",
       "      <th>Lng</th>\n",
       "      <th>City</th>\n",
       "      <th>Country</th>\n",
       "    </tr>\n",
       "  </thead>\n",
       "  <tbody>\n",
       "    <tr>\n",
       "      <th>0</th>\n",
       "      <td>12.747708</td>\n",
       "      <td>66.782187</td>\n",
       "      <td>kavaratti</td>\n",
       "      <td>in</td>\n",
       "    </tr>\n",
       "    <tr>\n",
       "      <th>1</th>\n",
       "      <td>41.186777</td>\n",
       "      <td>102.768168</td>\n",
       "      <td>jinchang</td>\n",
       "      <td>cn</td>\n",
       "    </tr>\n",
       "    <tr>\n",
       "      <th>2</th>\n",
       "      <td>-64.945387</td>\n",
       "      <td>-118.165026</td>\n",
       "      <td>rikitea</td>\n",
       "      <td>pf</td>\n",
       "    </tr>\n",
       "    <tr>\n",
       "      <th>3</th>\n",
       "      <td>66.150189</td>\n",
       "      <td>-14.237187</td>\n",
       "      <td>hofn</td>\n",
       "      <td>is</td>\n",
       "    </tr>\n",
       "    <tr>\n",
       "      <th>4</th>\n",
       "      <td>21.375534</td>\n",
       "      <td>45.873414</td>\n",
       "      <td>riyadh</td>\n",
       "      <td>sa</td>\n",
       "    </tr>\n",
       "  </tbody>\n",
       "</table>\n",
       "</div>"
      ],
      "text/plain": [
       "         Lat         Lng       City Country\n",
       "0  12.747708   66.782187  kavaratti      in\n",
       "1  41.186777  102.768168   jinchang      cn\n",
       "2 -64.945387 -118.165026    rikitea      pf\n",
       "3  66.150189  -14.237187       hofn      is\n",
       "4  21.375534   45.873414     riyadh      sa"
      ]
     },
     "execution_count": 6,
     "metadata": {},
     "output_type": "execute_result"
    }
   ],
   "source": [
    "city_list_1 = []\n",
    "country_list_1 = []\n",
    "for index, row in list1_df.iterrows():\n",
    "    city=citipy.nearest_city(row[\"Lat\"],row[\"Lng\"])\n",
    "    city_list_1.append(city.city_name)\n",
    "    country_list_1.append(city.country_code)\n",
    "list1_df[\"City\"] = city_list_1\n",
    "list1_df[\"Country\"] = country_list_1\n",
    "\n",
    "list1_df.head()"
   ]
  },
  {
   "cell_type": "code",
   "execution_count": null,
   "metadata": {
    "collapsed": true
   },
   "outputs": [],
   "source": [
    "list1_df[\"Cloudiness\"] = \"\"\n",
    "list1_df[\"Date\"] = \"\"\n",
    "list1_df[\"Humidity\"] = \"\"\n",
    "list1_df[\"Max Temp\"] = \"\"\n",
    "list1_df[\"Wind Speed\"] = \"\"\n",
    "\n",
    "counter = 0"
   ]
  }
 ],
 "metadata": {
  "kernelspec": {
   "display_name": "Python 3",
   "language": "python",
   "name": "python3"
  },
  "language_info": {
   "codemirror_mode": {
    "name": "ipython",
    "version": 3
   },
   "file_extension": ".py",
   "mimetype": "text/x-python",
   "name": "python",
   "nbconvert_exporter": "python",
   "pygments_lexer": "ipython3",
   "version": "3.6.1"
  }
 },
 "nbformat": 4,
 "nbformat_minor": 2
}
